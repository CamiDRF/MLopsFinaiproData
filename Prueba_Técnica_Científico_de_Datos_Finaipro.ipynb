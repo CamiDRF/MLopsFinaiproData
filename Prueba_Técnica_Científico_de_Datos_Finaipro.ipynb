{
  "nbformat": 4,
  "nbformat_minor": 0,
  "metadata": {
    "colab": {
      "provenance": [],
      "authorship_tag": "ABX9TyO01/kPuq6enO3pf1HikG6R",
      "include_colab_link": true
    },
    "kernelspec": {
      "name": "python3",
      "display_name": "Python 3"
    },
    "language_info": {
      "name": "python"
    }
  },
  "cells": [
    {
      "cell_type": "markdown",
      "metadata": {
        "id": "view-in-github",
        "colab_type": "text"
      },
      "source": [
        "<a href=\"https://colab.research.google.com/github/CamiDRF/CientificoFinaipro/blob/branchPythonDocker/Prueba_T%C3%A9cnica_Cient%C3%ADfico_de_Datos_Finaipro.ipynb\" target=\"_parent\"><img src=\"https://colab.research.google.com/assets/colab-badge.svg\" alt=\"Open In Colab\"/></a>"
      ]
    },
    {
      "cell_type": "markdown",
      "source": [
        "# Preguntas de Python"
      ],
      "metadata": {
        "id": "J_YV-ZJ39eKB"
      }
    },
    {
      "cell_type": "markdown",
      "source": [
        "1. ¿Qué devuelve esta función en llamadas consecutivas?"
      ],
      "metadata": {
        "id": "dxOC81sn9nmR"
      }
    },
    {
      "cell_type": "code",
      "source": [
        "def append_to_list(value, my_list=[]):\n",
        "    my_list.append(value)\n",
        "    return my_list\n",
        "\n",
        "print(append_to_list(1))\n",
        "print(append_to_list(2))\n",
        "print(append_to_list(3))\n",
        "\n",
        "# Explicacion: la lista predeterminada solo se crea una vez, justo cuando se define la función.\n",
        "# Entonces, cada vez que llamas a la función sin pasarle una lista propia, ella usa y modifica la misma lista que ya tenía desde la primera vez\n"
      ],
      "metadata": {
        "colab": {
          "base_uri": "https://localhost:8080/"
        },
        "id": "6YVL2lu89tNu",
        "outputId": "77df70e5-e0d9-42c2-9b2e-262d3aef9243"
      },
      "execution_count": null,
      "outputs": [
        {
          "output_type": "stream",
          "name": "stdout",
          "text": [
            "[1]\n",
            "[1, 2]\n",
            "[1, 2, 3]\n"
          ]
        }
      ]
    },
    {
      "cell_type": "markdown",
      "source": [
        "2. Considera el siguiente código:\n",
        "¿Qué puedes decir sobre la salida?"
      ],
      "metadata": {
        "id": "QFjbpthsALCs"
      }
    },
    {
      "cell_type": "code",
      "source": [
        "import threading\n",
        "counter = 0\n",
        "def increment():\n",
        "  global counter\n",
        "\n",
        "for _ in range(1000000):\n",
        "  counter += 1\n",
        "\n",
        "t1 = threading.Thread(target=increment)\n",
        "t2 = threading.Thread(target=increment)\n",
        "\n",
        "t1.start()\n",
        "t2.start()\n",
        "t1.join()\n",
        "t2.join()\n",
        "print(counter)\n",
        "\n",
        "# Eso es lo que pasa en el código con counter += 1. Aunque parezca una sola instrucción, Python internamente hace esto:\n",
        "# Lee el valor actual de counter.\n",
        "# Suma 1.\n",
        "# Guarda el nuevo valor.\n",
        "# Si dos hilos hacen esto al mismo tiempo sin sincronizarse, puede pasar que ambos lean el mismo valor antes de que alguno lo guarde.\n",
        "# Resultado: uno de los incrementos se pierde. Cuando esto ocurre miles de veces en un bucle tan grande, el número final será menor al esperado\n"
      ],
      "metadata": {
        "colab": {
          "base_uri": "https://localhost:8080/"
        },
        "id": "SyOqQxu7AOxI",
        "outputId": "ddac7d3b-244c-4f6d-80bf-ce002b6654c8"
      },
      "execution_count": null,
      "outputs": [
        {
          "output_type": "stream",
          "name": "stdout",
          "text": [
            "1000000\n"
          ]
        }
      ]
    },
    {
      "cell_type": "markdown",
      "source": [
        "3. ¿Cuál será la salida de este código?"
      ],
      "metadata": {
        "id": "97ulqQ3oVYGa"
      }
    },
    {
      "cell_type": "code",
      "source": [
        "class A:\n",
        "  x = 10\n",
        "class B(A):\n",
        "  pass\n",
        "class C(A):\n",
        "  x = 20\n",
        "print(B.x, C.x)\n",
        "\n",
        "B.x = 30\n",
        "\n",
        "print(A.x, B.x, C.x)\n",
        "\n",
        "# A tiene un atributo de clase x = 10.\n",
        "# B hereda de A y no modifica x, así que B.x vale 10.\n",
        "# C hereda de A pero redefine x = 20, así que C.x vale 20.\n",
        "# Cuando haces B.x = 30, se crea un nuevo atributo x en B, sin afectar a A ni a C."
      ],
      "metadata": {
        "colab": {
          "base_uri": "https://localhost:8080/"
        },
        "id": "1l0j2_2K9ieP",
        "outputId": "44767511-9baa-418c-84e4-2630a1d7be97"
      },
      "execution_count": null,
      "outputs": [
        {
          "output_type": "stream",
          "name": "stdout",
          "text": [
            "10 20\n",
            "10 30 20\n"
          ]
        }
      ]
    },
    {
      "cell_type": "markdown",
      "source": [
        "# Preguntas de Docker"
      ],
      "metadata": {
        "id": "uamr1IRnitR6"
      }
    },
    {
      "cell_type": "markdown",
      "source": [
        "## 1. Ejecutas un contenedor PostgreSQL así:\n"
      ],
      "metadata": {
        "id": "67B1rSTwiusQ"
      }
    },
    {
      "cell_type": "code",
      "source": [
        "docker run -d --name db -e POSTGRES_USER=user -e POSTGRES_PASSWORD=pass\n",
        "postgres"
      ],
      "metadata": {
        "id": "oYnhtm1ri0Mh"
      },
      "execution_count": null,
      "outputs": []
    },
    {
      "cell_type": "markdown",
      "source": [
        "Luego, dentro de otro contenedor, intentas conectarte usando:"
      ],
      "metadata": {
        "id": "oNhVhZN8i0vL"
      }
    },
    {
      "cell_type": "code",
      "source": [
        "import psycopg2\n",
        "conn = psycopg2.connect(host=\"localhost\", database=\"postgres\",\n",
        "user=\"user\", password=\"pass\")"
      ],
      "metadata": {
        "id": "kANK4mxWi4Th"
      },
      "execution_count": null,
      "outputs": []
    },
    {
      "cell_type": "markdown",
      "source": [
        "**¿Por qué falla la conexión y cómo puedes solucionarlo?**\n",
        "\n",
        "Respuesta: Porque \"localhost\" dentro de un contenedor apunta al sí mismo, no al contenedor db, no hay conexión entre contenedores.\n"
      ],
      "metadata": {
        "id": "EydcHjh5i4_k"
      }
    },
    {
      "cell_type": "markdown",
      "source": [
        "## 1. Construyes una imagen usando:\n"
      ],
      "metadata": {
        "id": "IW9Bi0c3jaFi"
      }
    },
    {
      "cell_type": "code",
      "source": [
        "docker build -t myapp"
      ],
      "metadata": {
        "id": "EyGSuNQYj9tz"
      },
      "execution_count": null,
      "outputs": []
    },
    {
      "cell_type": "markdown",
      "source": [
        "Luego ejecutas un contenedor:"
      ],
      "metadata": {
        "id": "4uErNLi_jfbt"
      }
    },
    {
      "cell_type": "code",
      "source": [
        "docker run -d --name app myapp"
      ],
      "metadata": {
        "id": "JJ03X76njg-6"
      },
      "execution_count": null,
      "outputs": []
    },
    {
      "cell_type": "markdown",
      "source": [
        "Más tarde, modificas tu Dockerfile y reconstruyes:"
      ],
      "metadata": {
        "id": "_JevSGHyjiht"
      }
    },
    {
      "cell_type": "code",
      "source": [
        "docker build -t myapp"
      ],
      "metadata": {
        "id": "oZF0TPiVjkIS"
      },
      "execution_count": null,
      "outputs": []
    },
    {
      "cell_type": "markdown",
      "source": [
        "Pero cuando reinicias el contenedor:"
      ],
      "metadata": {
        "id": "FaBHq4BjjmJa"
      }
    },
    {
      "cell_type": "code",
      "source": [
        "docker restart app"
      ],
      "metadata": {
        "id": "cRa3hTe8jnNg"
      },
      "execution_count": null,
      "outputs": []
    },
    {
      "cell_type": "markdown",
      "source": [
        "Respuesta: Porque el contenedor app fue creado a partir de una imagen anterior de myapp, el comando docker restart no actualiza el contenedor, solo lo reinicia tal cual fue creado, se soluciona eliminando el contenedor anterior\n"
      ],
      "metadata": {
        "id": "vVzpwGA6juXr"
      }
    },
    {
      "cell_type": "markdown",
      "source": [],
      "metadata": {
        "id": "MwlEwzqIj5OG"
      }
    }
  ]
}